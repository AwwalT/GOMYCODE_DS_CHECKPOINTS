{
 "cells": [
  {
   "cell_type": "code",
   "execution_count": null,
   "id": "30b0c7a9-a26d-4553-93de-3bbd26ab316c",
   "metadata": {},
   "outputs": [],
   "source": [
    "import pandas as pd\n",
    "\n",
    "# Load the dataset\n",
    "url = 'path_to_your_dataset.csv'  # Replace with the actual path to your dataset\n",
    "climate_data = pd.read_csv(url)\n",
    "\n",
    "# Display the first few rows of the dataset\n",
    "print(climate_data.head())"
   ]
  },
  {
   "cell_type": "code",
   "execution_count": null,
   "id": "6a657589-2b4f-4c53-9650-d0550880d277",
   "metadata": {},
   "outputs": [],
   "source": [
    "# Check for missing values\n",
    "print(climate_data.isnull().sum())\n",
    "\n",
    "# Drop rows with missing values (if any)\n",
    "climate_data.dropna(inplace=True)\n",
    "\n",
    "# Convert date column to datetime format (assuming there's a 'date' column)\n",
    "climate_data['date'] = pd.to_datetime(climate_data['date'])\n",
    "\n",
    "# Display the cleaned data\n",
    "print(climate_data.info())"
   ]
  },
  {
   "cell_type": "code",
   "execution_count": null,
   "id": "10a38257-22e3-48f2-a625-278a5ed762e1",
   "metadata": {},
   "outputs": [],
   "source": [
    "import matplotlib.pyplot as plt\n",
    "\n",
    "# Filter data for Tunisia and Cameroon\n",
    "tunisia_data = climate_data[climate_data['country'] == 'Tunisia']\n",
    "cameroon_data = climate_data[climate_data['country'] == 'Cameroon']\n",
    "\n",
    "# Plotting\n",
    "plt.figure(figsize=(12, 6))\n",
    "plt.plot(tunisia_data['date'], tunisia_data['avg_temp'], label='Tunisia', color='blue')\n",
    "plt.plot(cameroon_data['date'], cameroon_data['avg_temp'], label='Cameroon', color='orange')\n",
    "plt.title('Average Temperature Fluctuations in Tunisia and Cameroon (1980-2023)')\n",
    "plt.xlabel('Year')\n",
    "plt.ylabel('Average Temperature (°C)')\n",
    "plt.legend()\n",
    "plt.grid()\n",
    "plt.show()"
   ]
  },
  {
   "cell_type": "code",
   "execution_count": null,
   "id": "1ac5c090-e5d8-4383-80db-57ed545b5de2",
   "metadata": {},
   "outputs": [],
   "source": [
    "# Filter data between 1980 and 2005\n",
    "filtered_data = climate_data[(climate_data['date'] >= '1980-01-01') & (climate_data['date'] <= '2005-12-31')]\n",
    "\n",
    "# Plotting\n",
    "plt.figure(figsize=(12, 6))\n",
    "plt.plot(filtered_data[filtered_data['country'] == 'Tunisia']['date'], \n",
    "         filtered_data[filtered_data['country'] == 'Tunisia']['avg_temp'], label='Tunisia', color='blue')\n",
    "plt.plot(filtered_data[filtered_data['country'] == 'Cameroon']['date'], \n",
    "         filtered_data[filtered_data['country'] == 'Cameroon']['avg_temp'], label='Cameroon', color='orange')\n",
    "plt.title('Average Temperature Fluctuations in Tunisia and Cameroon (1980-2005)')\n",
    "plt.xlabel('Year')\n",
    "plt.ylabel('Average Temperature (°C)')\n",
    "plt.xticks(rotation=45)\n",
    "plt.legend()\n",
    "plt.grid()\n",
    "plt.show()"
   ]
  },
  {
   "cell_type": "code",
   "execution_count": null,
   "id": "bde3fb35-3c62-4d64-bdde-109cdc34c7fa",
   "metadata": {},
   "outputs": [],
   "source": [
    "# Filter data for Senegal\n",
    "senegal_data = climate_data[climate_data['country'] == 'Senegal']\n",
    "\n",
    "# Filter for the two time periods\n",
    "senegal_1980_2000 = senegal_data[(senegal_data['date'] >= '1980-01-01') & (senegal_data['date'] <= '2000-12-31')]\n",
    "senegal_2000_2023 = senegal_data[(senegal_data['date'] > '2000-12-31') & (senegal_data['date'] <= '2023-12-31')]\n",
    "\n",
    "# Plotting histograms\n",
    "plt.figure(figsize=(12, 6))\n",
    "plt.hist(senegal_1980_2000['avg_temp'], bins=20, alpha=0.5, label='1980-2000', color='blue')\n",
    "plt.hist(senegal_2000_2023['avg_temp'], bins=20, alpha=0.5, label='2000-2023', color='orange')\n",
    "plt.title('Temperature Distribution in Senegal')\n",
    "plt.xlabel('Average Temperature (°C)')\n",
    "plt.ylabel('Frequency')\n",
    "plt.legend()\n",
    "plt.grid()\n",
    "plt.show()"
   ]
  },
  {
   "cell_type": "code",
   "execution_count": null,
   "id": "60f4a236-247f-4665-9791-d2160314d43b",
   "metadata": {},
   "outputs": [],
   "source": []
  }
 ],
 "metadata": {
  "kernelspec": {
   "display_name": "Python [conda env:base] *",
   "language": "python",
   "name": "conda-base-py"
  },
  "language_info": {
   "codemirror_mode": {
    "name": "ipython",
    "version": 3
   },
   "file_extension": ".py",
   "mimetype": "text/x-python",
   "name": "python",
   "nbconvert_exporter": "python",
   "pygments_lexer": "ipython3",
   "version": "3.12.7"
  }
 },
 "nbformat": 4,
 "nbformat_minor": 5
}
