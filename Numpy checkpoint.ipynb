{
 "cells": [
  {
   "cell_type": "markdown",
   "id": "aac776da",
   "metadata": {},
   "source": [
    "Create a numpy array called \"grades\" that contains the following grades: [85, 90, 88, 92, 95, 80, 75, 98, 89, 83]\n",
    "\n",
    "\n",
    "Instructions\n",
    "\n",
    "Create a new file called \"grades_analysis.py\"\n",
    "Import the numpy library and create the \"grades\" array as specified above.\n",
    "Use numpy functions to calculate the mean, median, and standard deviation of the grades.\n",
    "Use numpy function to find the maximum and minimum of the grades.\n",
    "Use numpy function to sort the grades in ascending order.\n",
    "Use numpy function to find the index of the highest grade in the array.\n",
    "Use numpy function to count the number of students who scored above 90.\n",
    "Use numpy function to calculate the percentage of students who scored above 90.\n",
    "Use numpy function to calculate the percentage of students who scored below 75.\n",
    "Use numpy function to extract all the grades above 90 and put them in a new array called \"high_performers\".\n",
    "Create a new array called \"passing_grades\" that contains all the grades above 75.\n",
    "Print the result of all the above steps.\n",
    "Note:\n",
    "\n",
    "to calculate percentage use numpy.mean(grades > 90) * 100\n",
    "to extract the grades above 90 use grades[grades > 90]\n",
    "to extract the grades above 75 use grades[grades > 75]\n",
    "You can use other numpy functions as well to analyze the data as you want. The above steps are just examples of what can be done."
   ]
  },
  {
   "cell_type": "code",
   "execution_count": 1,
   "id": "c7758dba",
   "metadata": {},
   "outputs": [],
   "source": [
    "import numpy as np"
   ]
  },
  {
   "cell_type": "code",
   "execution_count": 2,
   "id": "6739460e",
   "metadata": {},
   "outputs": [],
   "source": [
    "grades = [85, 90, 88, 92, 95, 80, 75, 98, 89, 83]\n"
   ]
  },
  {
   "cell_type": "code",
   "execution_count": 4,
   "id": "d8ebafa5",
   "metadata": {},
   "outputs": [
    {
     "data": {
      "text/plain": [
       "87.5"
      ]
     },
     "execution_count": 4,
     "metadata": {},
     "output_type": "execute_result"
    }
   ],
   "source": [
    "mean = np.mean(grades)\n",
    "mean"
   ]
  },
  {
   "cell_type": "code",
   "execution_count": 5,
   "id": "4323df6c",
   "metadata": {},
   "outputs": [
    {
     "data": {
      "text/plain": [
       "88.5"
      ]
     },
     "execution_count": 5,
     "metadata": {},
     "output_type": "execute_result"
    }
   ],
   "source": [
    "median = np.median(grades)\n",
    "median"
   ]
  },
  {
   "cell_type": "code",
   "execution_count": 6,
   "id": "75802e36",
   "metadata": {},
   "outputs": [
    {
     "data": {
      "text/plain": [
       "6.591661399070799"
      ]
     },
     "execution_count": 6,
     "metadata": {},
     "output_type": "execute_result"
    }
   ],
   "source": [
    "standard_deviation = np.std(grades)\n",
    "standard_deviation"
   ]
  },
  {
   "cell_type": "code",
   "execution_count": 8,
   "id": "86785ac6",
   "metadata": {},
   "outputs": [
    {
     "data": {
      "text/plain": [
       "98"
      ]
     },
     "execution_count": 8,
     "metadata": {},
     "output_type": "execute_result"
    }
   ],
   "source": [
    "maximum = max(grades)\n",
    "maximum"
   ]
  },
  {
   "cell_type": "code",
   "execution_count": 9,
   "id": "d0b25661",
   "metadata": {},
   "outputs": [
    {
     "data": {
      "text/plain": [
       "75"
      ]
     },
     "execution_count": 9,
     "metadata": {},
     "output_type": "execute_result"
    }
   ],
   "source": [
    "minimum = min(grades)\n",
    "minimum"
   ]
  },
  {
   "cell_type": "code",
   "execution_count": 17,
   "id": "c732283d",
   "metadata": {},
   "outputs": [
    {
     "data": {
      "text/plain": [
       "array([75, 80, 83, 85, 88, 89, 90, 92, 95, 98])"
      ]
     },
     "execution_count": 17,
     "metadata": {},
     "output_type": "execute_result"
    }
   ],
   "source": [
    "ascending = np.sort(grades)\n",
    "ascending"
   ]
  },
  {
   "cell_type": "code",
   "execution_count": 20,
   "id": "d6ed28dc",
   "metadata": {},
   "outputs": [
    {
     "data": {
      "text/plain": [
       "7"
      ]
     },
     "execution_count": 20,
     "metadata": {},
     "output_type": "execute_result"
    }
   ],
   "source": [
    "highest_index = np.argmax(grades)\n",
    "highest_index"
   ]
  },
  {
   "cell_type": "code",
   "execution_count": 34,
   "id": "3cf385a8",
   "metadata": {},
   "outputs": [
    {
     "data": {
      "text/plain": [
       "3"
      ]
     },
     "execution_count": 34,
     "metadata": {},
     "output_type": "execute_result"
    }
   ],
   "source": [
    "above_90 = np.sum(ascending > 90)\n",
    "above_90"
   ]
  },
  {
   "cell_type": "code",
   "execution_count": 43,
   "id": "b0c18701",
   "metadata": {},
   "outputs": [
    {
     "data": {
      "text/plain": [
       "0"
      ]
     },
     "execution_count": 43,
     "metadata": {},
     "output_type": "execute_result"
    }
   ],
   "source": [
    "below_75 = np.sum(ascending < 75)\n",
    "below_75"
   ]
  },
  {
   "cell_type": "code",
   "execution_count": 45,
   "id": "de5bc534",
   "metadata": {},
   "outputs": [
    {
     "ename": "TypeError",
     "evalue": "'numpy.int32' object is not iterable",
     "output_type": "error",
     "traceback": [
      "\u001b[1;31m---------------------------------------------------------------------------\u001b[0m",
      "\u001b[1;31mTypeError\u001b[0m                                 Traceback (most recent call last)",
      "\u001b[1;32m~\\AppData\\Local\\Temp\\ipykernel_19392\\3552171369.py\u001b[0m in \u001b[0;36m<module>\u001b[1;34m\u001b[0m\n\u001b[0;32m      1\u001b[0m \u001b[0mhigh_performance\u001b[0m \u001b[1;33m=\u001b[0m \u001b[1;33m[\u001b[0m\u001b[1;33m]\u001b[0m\u001b[1;33m\u001b[0m\u001b[1;33m\u001b[0m\u001b[0m\n\u001b[1;32m----> 2\u001b[1;33m \u001b[1;32mfor\u001b[0m \u001b[0mnumbers\u001b[0m \u001b[1;32min\u001b[0m \u001b[0mabove_90\u001b[0m\u001b[1;33m:\u001b[0m\u001b[1;33m\u001b[0m\u001b[1;33m\u001b[0m\u001b[0m\n\u001b[0m\u001b[0;32m      3\u001b[0m     \u001b[0mhigh_performance\u001b[0m\u001b[1;33m.\u001b[0m\u001b[0mappend\u001b[0m\u001b[1;33m(\u001b[0m\u001b[0mabove_90\u001b[0m\u001b[1;33m)\u001b[0m\u001b[1;33m\u001b[0m\u001b[1;33m\u001b[0m\u001b[0m\n\u001b[0;32m      4\u001b[0m     \u001b[0mprint\u001b[0m\u001b[1;33m(\u001b[0m\u001b[0mhigh_performance\u001b[0m\u001b[1;33m)\u001b[0m\u001b[1;33m\u001b[0m\u001b[1;33m\u001b[0m\u001b[0m\n",
      "\u001b[1;31mTypeError\u001b[0m: 'numpy.int32' object is not iterable"
     ]
    }
   ],
   "source": [
    "high_performance = []\n",
    "for numbers in above_90:\n",
    "    high_performance.append(above_90)\n",
    "    print(high_performance)\n"
   ]
  },
  {
   "cell_type": "code",
   "execution_count": null,
   "id": "41618be9",
   "metadata": {},
   "outputs": [],
   "source": [
    "import numpy as np\n",
    "\n",
    "# Create the grades array\n",
    "grades = np.array([85, 90, 88, 92, 95, 80, 75, 98, 89, 83])\n",
    "\n",
    "# Calculate the mean, median, and standard deviation of the grades\n",
    "mean_grades = np.mean(grades)\n",
    "median_grades = np.median(grades)\n",
    "std_dev_grades = np.std(grades)\n",
    "\n",
    "# Find the maximum and minimum of the grades\n",
    "max_grades = np.max(grades)\n",
    "min_grades = np.min(grades)\n",
    "\n",
    "# Sort the grades in ascending order\n",
    "sorted_grades = np.sort(grades)\n",
    "\n",
    "# Find the index of the highest grade in the array\n",
    "index_max_grades = np.argmax(grades)\n",
    "\n",
    "# Count the number of students who scored above 90\n",
    "num_students_above_90 = np.sum(grades > 90)\n",
    "\n",
    "# Calculate the percentage of students who scored above 90\n",
    "percentage_students_above_90 = np.mean(grades > 90) * 100\n",
    "\n",
    "# Calculate the percentage of students who scored below 75\n",
    "percentage_students_below_75 = np.mean(grades < 75) * 100\n",
    "\n",
    "# Extract all the grades above 90 and put them in a new array called \"high_performers\"\n",
    "high_performers = grades[grades > 90]\n",
    "\n",
    "# Create a new array called \"passing_grades\" that contains all the grades above 75\n",
    "passing_grades = grades[grades > 75]\n",
    "\n",
    "# Print the results\n",
    "print(\"Mean of grades: \", mean_grades)\n",
    "print(\"Median of grades: \", median_grades)\n",
    "print(\"Standard deviation of grades: \", std_dev_grades)\n",
    "print(\"Maximum grade: \", max_grades)\n",
    "print(\"Minimum grade: \", min_grades)\n",
    "print(\"Sorted grades: \", sorted_grades)\n",
    "print(\"Index of the highest grade: \", index_max_grades)\n",
    "print(\"Number of students who scored above 90: \", num_students_above_90)\n",
    "print(\"Percentage of students who scored above 90: \", percentage_students_above_90)\n",
    "print(\"Percentage of students who scored below 75: \", percentage_students_below_75)\n",
    "print(\"High performers: \", high_performers)\n",
    "print(\"Passing grades: \", passing_grades)"
   ]
  }
 ],
 "metadata": {
  "kernelspec": {
   "display_name": "Python 3 (ipykernel)",
   "language": "python",
   "name": "python3"
  },
  "language_info": {
   "codemirror_mode": {
    "name": "ipython",
    "version": 3
   },
   "file_extension": ".py",
   "mimetype": "text/x-python",
   "name": "python",
   "nbconvert_exporter": "python",
   "pygments_lexer": "ipython3",
   "version": "3.9.13"
  }
 },
 "nbformat": 4,
 "nbformat_minor": 5
}
