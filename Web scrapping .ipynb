{
 "cells": [
  {
   "cell_type": "code",
   "execution_count": null,
   "id": "de80b212-21fe-4345-84e9-e5f4e40338fd",
   "metadata": {},
   "outputs": [],
   "source": []
  }
 ],
 "metadata": {
  "kernelspec": {
   "display_name": "",
   "name": ""
  },
  "language_info": {
   "name": ""
  }
 },
 "nbformat": 4,
 "nbformat_minor": 5
}
