{
 "cells": [
  {
   "cell_type": "code",
   "execution_count": 3,
   "id": "1a7a7c8f",
   "metadata": {},
   "outputs": [
    {
     "ename": "FileNotFoundError",
     "evalue": "[Errno 2] No such file or directory: 'class_people.csv'",
     "output_type": "error",
     "traceback": [
      "\u001b[1;31m---------------------------------------------------------------------------\u001b[0m",
      "\u001b[1;31mFileNotFoundError\u001b[0m                         Traceback (most recent call last)",
      "\u001b[1;32m~\\AppData\\Local\\Temp\\ipykernel_15804\\3821575764.py\u001b[0m in \u001b[0;36m<module>\u001b[1;34m\u001b[0m\n\u001b[0;32m      2\u001b[0m \u001b[1;33m\u001b[0m\u001b[0m\n\u001b[0;32m      3\u001b[0m \u001b[1;31m# Open the csv file\u001b[0m\u001b[1;33m\u001b[0m\u001b[1;33m\u001b[0m\u001b[0m\n\u001b[1;32m----> 4\u001b[1;33m \u001b[0mfile\u001b[0m \u001b[1;33m=\u001b[0m \u001b[0mopen\u001b[0m\u001b[1;33m(\u001b[0m\u001b[1;34mr'class_people.csv'\u001b[0m\u001b[1;33m)\u001b[0m\u001b[1;33m\u001b[0m\u001b[1;33m\u001b[0m\u001b[0m\n\u001b[0m\u001b[0;32m      5\u001b[0m \u001b[1;33m\u001b[0m\u001b[0m\n\u001b[0;32m      6\u001b[0m \u001b[1;31m# Use numpy's genfromtxt function to read the csv file into a numpy array\u001b[0m\u001b[1;33m\u001b[0m\u001b[1;33m\u001b[0m\u001b[0m\n",
      "\u001b[1;31mFileNotFoundError\u001b[0m: [Errno 2] No such file or directory: 'class_people.csv'"
     ]
    }
   ],
   "source": [
    "import numpy as np\n",
    "\n",
    "# Open the csv file\n",
    "file = open(r'class_people.csv')\n",
    "\n",
    "# Use numpy's genfromtxt function to read the csv file into a numpy array\n",
    "# The delimiter parameter is used to specify that the values in the file are separated by commas\n",
    "loan_data = np.genfromtxt(file, delimiter=',')\n",
    "\n",
    "# Close the file\n",
    "file.close()\n",
    "\n",
    "# Perform some basic statistical analysis on the data\n",
    "mean_loan_amount = np.mean(loan_data)\n",
    "median_loan_amount = np.median(loan_data)\n",
    "std_dev_loan_amount = np.std(loan_data)\n",
    "\n",
    "# Print the results\n",
    "print(\"Mean of loan amounts: \", mean_loan_amount)\n",
    "print(\"Median of loan amounts: \", median_loan_amount)\n",
    "print(\"Standard deviation of loan amounts: \", std_dev_loan_amount)"
   ]
  },
  {
   "cell_type": "code",
   "execution_count": null,
   "id": "9b094ad1",
   "metadata": {},
   "outputs": [],
   "source": []
  }
 ],
 "metadata": {
  "kernelspec": {
   "display_name": "Python 3 (ipykernel)",
   "language": "python",
   "name": "python3"
  },
  "language_info": {
   "codemirror_mode": {
    "name": "ipython",
    "version": 3
   },
   "file_extension": ".py",
   "mimetype": "text/x-python",
   "name": "python",
   "nbconvert_exporter": "python",
   "pygments_lexer": "ipython3",
   "version": "3.9.13"
  }
 },
 "nbformat": 4,
 "nbformat_minor": 5
}
