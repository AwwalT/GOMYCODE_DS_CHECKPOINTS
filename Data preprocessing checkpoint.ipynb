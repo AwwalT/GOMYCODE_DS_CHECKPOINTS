{
 "cells": [
  {
   "cell_type": "code",
   "execution_count": null,
   "id": "2f146506-aa77-49e0-bff6-7e8edbfc4cf6",
   "metadata": {},
   "outputs": [],
   "source": [
    "import pandas as pd\n",
    "\n",
    "# Load the dataset\n",
    "client_0_bills = pd.read_csv('path_to_your_dataset.csv')  # Replace with the actual path to your dataset\n",
    "\n",
    "# Display the first ten lines\n",
    "print(client_0_bills.head(10))"
   ]
  },
  {
   "cell_type": "code",
   "execution_count": null,
   "id": "1d02125f-7c0c-4305-b280-f510744286d6",
   "metadata": {},
   "outputs": [],
   "source": [
    "# Check the data type\n",
    "data_type = type(client_0_bills)\n",
    "print(f'Data type of client_0_bills: {data_type}')"
   ]
  },
  {
   "cell_type": "code",
   "execution_count": null,
   "id": "17212fc8-31a4-4398-ab6e-30952f05315c",
   "metadata": {},
   "outputs": [],
   "source": [
    "# Display general information\n",
    "info = client_0_bills.info()\n",
    "\n",
    "# Get number of rows and columns\n",
    "num_rows, num_columns = client_0_bills.shape\n",
    "print(f'Number of rows: {num_rows}, Number of columns: {num_columns}')\n",
    "\n",
    "# Memory usage\n",
    "memory_usage = client_0_bills.memory_usage(deep=True).sum()\n",
    "print(f'Memory usage: {memory_usage} bytes')"
   ]
  },
  {
   "cell_type": "code",
   "execution_count": null,
   "id": "ad1132ae-6585-4931-88f4-5c855b451096",
   "metadata": {},
   "outputs": [],
   "source": [
    "# Check for missing values\n",
    "missing_values = client_0_bills.isnull().sum()\n",
    "print(\"Missing values in each column:\")\n",
    "print(missing_values[missing_values > 0])"
   ]
  },
  {
   "cell_type": "code",
   "execution_count": null,
   "id": "9c65057d-5a2b-4049-b3d1-1d7412095e04",
   "metadata": {},
   "outputs": [],
   "source": [
    "# Fill missing values with the mean for numeric columns\n",
    "client_0_bills.fillna(client_0_bills.mean(), inplace=True)"
   ]
  },
  {
   "cell_type": "code",
   "execution_count": null,
   "id": "ed76206e-7e29-419c-b4af-dbc2299054a2",
   "metadata": {},
   "outputs": [],
   "source": [
    "# Descriptive analysis\n",
    "descriptive_stats = client_0_bills.describe()\n",
    "print(descriptive_stats)"
   ]
  },
  {
   "cell_type": "code",
   "execution_count": null,
   "id": "0eeb0ff3-7030-4347-a1b3-d44c19790f04",
   "metadata": {},
   "outputs": [],
   "source": [
    "# Method 1: Using boolean indexing\n",
    "client_records_1 = client_0_bills[client_0_bills['client_id'] == 'train_Client_0']\n",
    "\n",
    "# Method 2: Using the query method\n",
    "client_records_2 = client_0_bills.query(\"client_id == 'train_Client_0'\")\n",
    "\n",
    "# Display the selected records\n",
    "print(client_records_1)\n",
    "print(client_records_2)"
   ]
  },
  {
   "cell_type": "code",
   "execution_count": null,
   "id": "f333babd-ff45-4ef9-9628-e570ff05f76b",
   "metadata": {},
   "outputs": [],
   "source": [
    "from sklearn.preprocessing import LabelEncoder\n",
    "\n",
    "# Initialize the encoder\n",
    "label_encoder = LabelEncoder()\n",
    "\n",
    "# Transform the 'counter_type' feature\n",
    "client_0_bills['counter_type'] = label_encoder.fit_transform(client_0_bills['counter_type'])"
   ]
  },
  {
   "cell_type": "code",
   "execution_count": null,
   "id": "73f46f22-7703-402f-af8e-57e097fd438d",
   "metadata": {},
   "outputs": [],
   "source": [
    "# Delete the 'counter_statue' feature\n",
    "client_0_bills.drop(columns=['counter_statue'], inplace=True)"
   ]
  }
 ],
 "metadata": {
  "kernelspec": {
   "display_name": "Python [conda env:base] *",
   "language": "python",
   "name": "conda-base-py"
  },
  "language_info": {
   "codemirror_mode": {
    "name": "ipython",
    "version": 3
   },
   "file_extension": ".py",
   "mimetype": "text/x-python",
   "name": "python",
   "nbconvert_exporter": "python",
   "pygments_lexer": "ipython3",
   "version": "3.12.7"
  }
 },
 "nbformat": 4,
 "nbformat_minor": 5
}
