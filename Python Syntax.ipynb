{
 "cells": [
  {
   "cell_type": "code",
   "execution_count": null,
   "id": "9f620a0d-48c0-481b-b680-f81223f6d596",
   "metadata": {},
   "outputs": [],
   "source": [
    "print(\"Welcome to Python Pizza Deliveries\")\n",
    "\n",
    "size = input(\"What size pizza do you want? (S, M, L): \").upper()\n",
    "\n",
    "add_pepperoni = input(\"Do you want pepperoni? (Y/N): \").upper()\n",
    "\n",
    "extra_cheese = input(\"Do you want extra cheese? (Y/N): \").upper()\n",
    "bill = 0\n",
    "\n",
    "if size == \"S\":\n",
    "    bill += 15\n",
    "elif size == \"M\":\n",
    "    bill += 20\n",
    "elif size == \"L\":\n",
    "    bill += 25\n",
    "else:\n",
    "    print(\"Invalid size selected.\")\n",
    "\n",
    "\n",
    "if add_pepperoni == \"Y\":\n",
    "    if size == \"S\":\n",
    "        bill += 2\n",
    "    else:  \n",
    "        bill += 3\n",
    "\n",
    "if extra_cheese == \"Y\":\n",
    "    bill += 1\n",
    "\n",
    "print(f\"Your final bill is: ${bill}.\")"
   ]
  }
 ],
 "metadata": {
  "kernelspec": {
   "display_name": "Python [conda env:base] *",
   "language": "python",
   "name": "conda-base-py"
  },
  "language_info": {
   "codemirror_mode": {
    "name": "ipython",
    "version": 3
   },
   "file_extension": ".py",
   "mimetype": "text/x-python",
   "name": "python",
   "nbconvert_exporter": "python",
   "pygments_lexer": "ipython3",
   "version": "3.12.7"
  }
 },
 "nbformat": 4,
 "nbformat_minor": 5
}
