{
 "cells": [
  {
   "cell_type": "code",
   "execution_count": 1,
   "id": "3d8cc1dd",
   "metadata": {},
   "outputs": [],
   "source": [
    "class Bank_Transaction:\n",
    "    def __init__(self, number, balance, name):\n",
    "        self.ac_number=number\n",
    "        self.balance=balance\n",
    "        self.holder=name\n",
    "    def deposit(self, amount):\n",
    "        self.amount=amount\n",
    "        self.balance=self.balance+self.amount\n",
    "        return f'The amount deposited is {self.amount}, the total_balance is {self.balance}'\n",
    "    def withdrawal(self, amount):\n",
    "        self.amount=amount\n",
    "        if self.balance >=amount:\n",
    "            self.balance=self.balance-self.amount\n",
    "            return f'Transaction successful, the amount to be withdraw is {self.amount}, and the balance is {self.balance}'\n",
    "        else:\n",
    "            return f'Insufficent balance, the amount to be withdraw is {self.amount}, and the balance is {self.balance}'\n",
    "    def check_balance(self):\n",
    "        return f'Welcome {self.holder}, you have {self.balance} in this account {str(self.ac_number)}'"
   ]
  },
  {
   "cell_type": "code",
   "execution_count": null,
   "id": "b68bdd05",
   "metadata": {},
   "outputs": [],
   "source": []
  }
 ],
 "metadata": {
  "kernelspec": {
   "display_name": "Python 3 (ipykernel)",
   "language": "python",
   "name": "python3"
  },
  "language_info": {
   "codemirror_mode": {
    "name": "ipython",
    "version": 3
   },
   "file_extension": ".py",
   "mimetype": "text/x-python",
   "name": "python",
   "nbconvert_exporter": "python",
   "pygments_lexer": "ipython3",
   "version": "3.9.13"
  }
 },
 "nbformat": 4,
 "nbformat_minor": 5
}
